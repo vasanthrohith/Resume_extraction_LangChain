{
  "nbformat": 4,
  "nbformat_minor": 0,
  "metadata": {
    "colab": {
      "provenance": [],
      "authorship_tag": "ABX9TyMpDT5VEXqx9kR/N3K1M7PU",
      "include_colab_link": true
    },
    "kernelspec": {
      "name": "python3",
      "display_name": "Python 3"
    },
    "language_info": {
      "name": "python"
    }
  },
  "cells": [
    {
      "cell_type": "markdown",
      "metadata": {
        "id": "view-in-github",
        "colab_type": "text"
      },
      "source": [
        "<a href=\"https://colab.research.google.com/github/vasanthrohith/Resume_extraction_LangChain/blob/main/Resume_extraction.ipynb\" target=\"_parent\"><img src=\"https://colab.research.google.com/assets/colab-badge.svg\" alt=\"Open In Colab\"/></a>"
      ]
    },
    {
      "cell_type": "code",
      "execution_count": null,
      "metadata": {
        "id": "CAr9FU-koD1c"
      },
      "outputs": [],
      "source": [
        "# pip install langchain\n",
        "# pip install openai\n",
        "# pip install unstructured\n",
        "# pip install tiktoken\n",
        "# pip install streamlit\n",
        "# !pip install pyngrok"
      ]
    },
    {
      "cell_type": "code",
      "source": [],
      "metadata": {
        "id": "iqmj77eHZasW"
      },
      "execution_count": null,
      "outputs": []
    },
    {
      "cell_type": "code",
      "source": [],
      "metadata": {
        "id": "UQifMtPsjz9L"
      },
      "execution_count": null,
      "outputs": []
    },
    {
      "cell_type": "code",
      "source": [],
      "metadata": {
        "id": "6XzzwlvYj8dr"
      },
      "execution_count": 32,
      "outputs": []
    },
    {
      "cell_type": "code",
      "source": [
        "from langchain.llms import OpenAI\n",
        "from langchain.document_loaders import UnstructuredPDFLoader\n",
        "from langchain.prompts import PromptTemplate"
      ],
      "metadata": {
        "id": "-birMEhooU2M"
      },
      "execution_count": 5,
      "outputs": []
    },
    {
      "cell_type": "code",
      "source": [
        "loader=UnstructuredPDFLoader(\"/content/Vasanth_CV_23052023.pdf\")\n",
        "file=loader.load()"
      ],
      "metadata": {
        "id": "dMfMHSDxpNTw"
      },
      "execution_count": 19,
      "outputs": []
    },
    {
      "cell_type": "code",
      "source": [
        "file"
      ],
      "metadata": {
        "id": "TgEdKfsGpbSp",
        "colab": {
          "base_uri": "https://localhost:8080/"
        },
        "outputId": "88f77c89-f4f5-49a4-a5c3-1aa55ffd0099"
      },
      "execution_count": 20,
      "outputs": [
        {
          "output_type": "execute_result",
          "data": {
            "text/plain": [
              "[Document(page_content=\"Data Scientist VASANTH SHANKAR N\\n\\nCAREER OBJECTIVE To leverage my strong analytical skills and passion for problem-solving in a challenging role, where I can contribute to the growth and success of the company while continuously developing my own skill set.\\n\\nCONTACT\\n\\nSalem, Tamil Nadu\\n\\nvasanthrohith777@gmail.com\\n\\n9952463879\\n\\nlinkedin.com/in/vasanth-shankar- 24a665224\\n\\nWORK EXPERIENCE Newgen Softwares and Technologies India\\n\\nFeel free to review my real time projects on GitHub\\n\\nApplication Engineer\\n\\nhttps://github.com/vasa nthrohith\\n\\nMarch 2022 to February 2023 - Chennai, Tamil Nadu.\\n\\nPROJECTS 1.PETROFAC - Product deployment and Server\\n\\nAlso, checkout my profile on social medias as Online Fitness Coach,\\n\\nmanagement (development,UAT and Production).\\n\\nhttps://instagram.com/vasanth_ v10?igshid=ZDdkNTZiNTM=\\n\\nI have worked in the client's server to deploy our company product to their development, UAT and Production.\\n\\nhttps://youtube.com/@mroptimi st\\n\\nTo support my team to create a flow for customer provided CRS.\\n\\nEDUCATION Bachelor of Chemical Engineering - Kongu Engineeering college, Perundurai, Erode , Tamil Nadu - 638052.\\n\\nTo deal the technical issues with our customers and technical team for the product configurations based on the requirements.\\n\\n2.PRDP - Product Development and support\\n\\nTo resolve the issue(tickets) araising in our product from client end, i have to connect to our customer accross the globe(African countries and UAE) virtually and according to their requrement, i'll fix the issue within 24 hours.\\n\\nSKILLS Python. Machine Learning. R language. PostgreSQL . NLP (Natural Language Processing) Pandas. Numpy GitHub\\n\\nINTERNSHIP Imagecon India Private Limited. - Current\\n\\nArtificial Intelligence Trainee\\n\\nPython. Machine Learning. Artificial Intelligence and Data Science.\\n\\nPYTHON PROJECTS\\n\\nText to speech / Speech to text Convertor. One - super mart - a grocery store datas management app. Beetle AI - personal assistant works on voice command. Calorie calculator - personal trainer app.\\n\\nLANGUAGE\\n\\nEnglish - Read, Write, Speak (fluent). Tamil - Read, Write, Speak.\\n\\nMACHINE LEARNING PROJECTS Deployment - all in one prediction app Flower family prediction.(KNN and naive bayes). Sentiment Analysis - Using NLP and text mining. Webscraping - fetching the datas of specified products from amazon and flipkart.\\n\\nPermanent address 25 - B, Malco colony, Mettur, Salem, Tamil Nadu. Pin - 636403\", metadata={'source': '/content/Vasanth_CV_23052023.pdf'})]"
            ]
          },
          "metadata": {},
          "execution_count": 20
        }
      ]
    },
    {
      "cell_type": "code",
      "source": [
        "api_key="
      ],
      "metadata": {
        "id": "fYkMnRJ-sZQq"
      },
      "execution_count": 9,
      "outputs": []
    },
    {
      "cell_type": "code",
      "source": [
        "template=\"\"\"\n",
        "You will be provided with text which are extracted from resume\n",
        "your goal is to extract the below detail from the provided text\n",
        "- Name of the person\n",
        "- mobile number\n",
        "- Work experience\n",
        "- projects\n",
        "- email address\n",
        "\n",
        "if there is any field mentioned above not in text you should simply mention NA\n",
        "\n",
        "You should not consider skills and area of interest as work experience\n",
        "if there is no work experience simply mention NA\n",
        "\n",
        "in addition you should predict the gender of that person and mention it as\n",
        "- gender\n",
        "\n",
        "Below is the text:\n",
        "TEXT: {text}\n",
        "\n",
        "Your resopnse:\n",
        "\n",
        "\"\"\""
      ],
      "metadata": {
        "id": "SsJtfLigpvs0"
      },
      "execution_count": 10,
      "outputs": []
    },
    {
      "cell_type": "code",
      "source": [
        "llm=OpenAI(temperature=0,openai_api_key=api_key)"
      ],
      "metadata": {
        "id": "ZVKTxU0MsRmK"
      },
      "execution_count": 11,
      "outputs": []
    },
    {
      "cell_type": "code",
      "source": [
        "prompt=PromptTemplate(input_variables=[\"text\"],\n",
        "                      template=template)"
      ],
      "metadata": {
        "id": "OKktJmkIsiuZ"
      },
      "execution_count": 12,
      "outputs": []
    },
    {
      "cell_type": "code",
      "source": [
        "prompted=prompt.format(text=file)"
      ],
      "metadata": {
        "id": "lUdCNU7StPuu"
      },
      "execution_count": 21,
      "outputs": []
    },
    {
      "cell_type": "code",
      "source": [
        "prompted"
      ],
      "metadata": {
        "colab": {
          "base_uri": "https://localhost:8080/",
          "height": 157
        },
        "id": "flyGfSc4tr2B",
        "outputId": "ef150b6b-dd66-4e92-e2da-fa9307ddd262"
      },
      "execution_count": 22,
      "outputs": [
        {
          "output_type": "execute_result",
          "data": {
            "text/plain": [
              "'\\nYou will be provided with text which are extracted from resume\\nyour goal is to extract the below detail from the provided text\\n- Name of the person\\n- mobile number\\n- Work experience\\n- projects\\n- email address\\n\\nif there is any field mentioned above not in text you should simply mention NA\\n\\nYou should not consider skills and area of interest as work experience\\nif there is no work experience simply mention NA\\n\\nin addition you should predict the gender of that person and mention it as\\n- gender\\n\\nBelow is the text:\\nTEXT: [Document(page_content=\"Data Scientist VASANTH SHANKAR N\\\\n\\\\nCAREER OBJECTIVE To leverage my strong analytical skills and passion for problem-solving in a challenging role, where I can contribute to the growth and success of the company while continuously developing my own skill set.\\\\n\\\\nCONTACT\\\\n\\\\nSalem, Tamil Nadu\\\\n\\\\nvasanthrohith777@gmail.com\\\\n\\\\n9952463879\\\\n\\\\nlinkedin.com/in/vasanth-shankar- 24a665224\\\\n\\\\nWORK EXPERIENCE Newgen Softwares and Technologies India\\\\n\\\\nFeel free to review my real time projects on GitHub\\\\n\\\\nApplication Engineer\\\\n\\\\nhttps://github.com/vasa nthrohith\\\\n\\\\nMarch 2022 to February 2023 - Chennai, Tamil Nadu.\\\\n\\\\nPROJECTS 1.PETROFAC - Product deployment and Server\\\\n\\\\nAlso, checkout my profile on social medias as Online Fitness Coach,\\\\n\\\\nmanagement (development,UAT and Production).\\\\n\\\\nhttps://instagram.com/vasanth_ v10?igshid=ZDdkNTZiNTM=\\\\n\\\\nI have worked in the client\\'s server to deploy our company product to their development, UAT and Production.\\\\n\\\\nhttps://youtube.com/@mroptimi st\\\\n\\\\nTo support my team to create a flow for customer provided CRS.\\\\n\\\\nEDUCATION Bachelor of Chemical Engineering - Kongu Engineeering college, Perundurai, Erode , Tamil Nadu - 638052.\\\\n\\\\nTo deal the technical issues with our customers and technical team for the product configurations based on the requirements.\\\\n\\\\n2.PRDP - Product Development and support\\\\n\\\\nTo resolve the issue(tickets) araising in our product from client end, i have to connect to our customer accross the globe(African countries and UAE) virtually and according to their requrement, i\\'ll fix the issue within 24 hours.\\\\n\\\\nSKILLS Python. Machine Learning. R language. PostgreSQL . NLP (Natural Language Processing) Pandas. Numpy GitHub\\\\n\\\\nINTERNSHIP Imagecon India Private Limited. - Current\\\\n\\\\nArtificial Intelligence Trainee\\\\n\\\\nPython. Machine Learning. Artificial Intelligence and Data Science.\\\\n\\\\nPYTHON PROJECTS\\\\n\\\\nText to speech / Speech to text Convertor. One - super mart - a grocery store datas management app. Beetle AI - personal assistant works on voice command. Calorie calculator - personal trainer app.\\\\n\\\\nLANGUAGE\\\\n\\\\nEnglish - Read, Write, Speak (fluent). Tamil - Read, Write, Speak.\\\\n\\\\nMACHINE LEARNING PROJECTS Deployment - all in one prediction app Flower family prediction.(KNN and naive bayes). Sentiment Analysis - Using NLP and text mining. Webscraping - fetching the datas of specified products from amazon and flipkart.\\\\n\\\\nPermanent address 25 - B, Malco colony, Mettur, Salem, Tamil Nadu. Pin - 636403\", metadata={\\'source\\': \\'/content/Vasanth_CV_23052023.pdf\\'})]\\n\\nYour resopnse:\\n\\n'"
            ],
            "application/vnd.google.colaboratory.intrinsic+json": {
              "type": "string"
            }
          },
          "metadata": {},
          "execution_count": 22
        }
      ]
    },
    {
      "cell_type": "code",
      "source": [
        "result=llm(prompted)"
      ],
      "metadata": {
        "id": "MyedlclEtw_u"
      },
      "execution_count": 23,
      "outputs": []
    },
    {
      "cell_type": "code",
      "source": [
        "print(type(result))\n",
        "print(result)\n"
      ],
      "metadata": {
        "colab": {
          "base_uri": "https://localhost:8080/"
        },
        "id": "BJzT_2Bqt7Mz",
        "outputId": "03ea84a9-1c2a-4bea-8e96-46ab862ea9a8"
      },
      "execution_count": 24,
      "outputs": [
        {
          "output_type": "stream",
          "name": "stdout",
          "text": [
            "<class 'str'>\n",
            "Name of the person: Vasanth Shankar N\n",
            "Mobile number: 9952463879\n",
            "Work experience: Application Engineer at Newgen Softwares and Technologies India\n",
            "Projects: PETROFAC - Product deployment and Server management (development,UAT and Production); PRDP - Product Development and support; Text to speech / Speech to text Convertor; One - super mart - a grocery store datas management app; Beetle AI - personal assistant works on voice command; Calorie calculator - personal trainer app\n",
            "Email address: vasanthrohith777@gmail.com\n",
            "Gender: Male\n"
          ]
        }
      ]
    },
    {
      "cell_type": "code",
      "source": [
        "splitted=result.split('\\n')\n",
        "# print(splitted)\n",
        "\n",
        "#split(\\n)=> to separate every entities in newline so that easily iterated through\n",
        "\n",
        "dict_entities={}\n",
        "# using dict to collect all the entities for easy accessibility\n",
        "\n",
        "for i in splitted:\n",
        "    i=i.lower()\n",
        "    # lower() => to make normalize the text\n",
        "\n",
        "    entities=i.split(':')\n",
        "    # split(':') => to separate label(entities[0]) and values(entities[1])\n",
        "\n",
        "    # print(entities)\n",
        "\n",
        "    #below ladder if will help us to extract every entities and add to dict_entities based on it's label\n",
        "\n",
        "    if \"name\" and \"person\" in entities[0]:\n",
        "        print(f\"name: {entities[1]}\")\n",
        "        dict_entities['name']=entities[1].strip()\n",
        "\n",
        "    elif \"mobile\" and \"number\" in entities[0]:\n",
        "        print(f\"mobile_number: {entities[1]}\")\n",
        "        dict_entities['mobile_number']=entities[1].strip()\n",
        "\n",
        "    elif \"work experience\" in entities[0]:\n",
        "        print(f\"Work_experience: {entities[1]}\")\n",
        "        dict_entities['Work_experience']=entities[1].strip()\n",
        "\n",
        "    elif \"projects\" in entities[0]:\n",
        "        print(f\"projects: {entities[1]}\")\n",
        "        dict_entities['projects']=entities[1].strip()\n",
        "\n",
        "    elif \"email\" in entities[0]:\n",
        "        print(f\"email: {entities[1]}\")\n",
        "        dict_entities['email']=entities[1].strip()\n",
        "\n",
        "    elif \"gender\" in entities[0]:\n",
        "        print(f\"gender: {entities[1]}\")\n",
        "        dict_entities['gender']=entities[1].strip()\n",
        "\n"
      ],
      "metadata": {
        "colab": {
          "base_uri": "https://localhost:8080/"
        },
        "id": "33t7fZJD5B1G",
        "outputId": "ac179bff-ee21-499e-a143-48187538ec0a"
      },
      "execution_count": 25,
      "outputs": [
        {
          "output_type": "stream",
          "name": "stdout",
          "text": [
            "name:  vasanth shankar n\n",
            "mobile_number:  9952463879\n",
            "Work_experience:  application engineer at newgen softwares and technologies india\n",
            "projects:  petrofac - product deployment and server management (development,uat and production); prdp - product development and support; text to speech / speech to text convertor; one - super mart - a grocery store datas management app; beetle ai - personal assistant works on voice command; calorie calculator - personal trainer app\n",
            "email:  vasanthrohith777@gmail.com\n",
            "gender:  male\n"
          ]
        }
      ]
    },
    {
      "cell_type": "code",
      "source": [
        "dict_entities"
      ],
      "metadata": {
        "colab": {
          "base_uri": "https://localhost:8080/"
        },
        "id": "LGuFiw7IBgdF",
        "outputId": "dbea3d73-91d1-42f6-a25e-002e354c1039"
      },
      "execution_count": 26,
      "outputs": [
        {
          "output_type": "execute_result",
          "data": {
            "text/plain": [
              "{'name': 'vasanth shankar n',\n",
              " 'mobile_number': '9952463879',\n",
              " 'Work_experience': 'application engineer at newgen softwares and technologies india',\n",
              " 'projects': 'petrofac - product deployment and server management (development,uat and production); prdp - product development and support; text to speech / speech to text convertor; one - super mart - a grocery store datas management app; beetle ai - personal assistant works on voice command; calorie calculator - personal trainer app',\n",
              " 'email': 'vasanthrohith777@gmail.com',\n",
              " 'gender': 'male'}"
            ]
          },
          "metadata": {},
          "execution_count": 26
        }
      ]
    },
    {
      "cell_type": "code",
      "source": [],
      "metadata": {
        "id": "9hj7mdeujKly"
      },
      "execution_count": null,
      "outputs": []
    }
  ]
}